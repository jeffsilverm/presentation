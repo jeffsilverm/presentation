{
 "cells": [
  {
   "cell_type": "markdown",
   "metadata": {},
   "source": []
  },
  {
   "cell_type": "code",
   "execution_count": 65,
   "metadata": {},
   "outputs": [
    {
     "name": "stdout",
     "output_type": "stream",
     "text": [
      "<class 'pandas.io.pytables.HDFStore'>\n",
      "File path: ftp_performance.results.h5\n",
      "/df_cs            frame        (shape->[1,5])  \n",
      "/df_mi            frame        (shape->[180,1])\n",
      "['__bytes__', '__class__', '__contains__', '__delattr__', '__delitem__', '__dict__', '__dir__', '__doc__', '__enter__', '__eq__', '__exit__', '__format__', '__fspath__', '__ge__', '__getattr__', '__getattribute__', '__getitem__', '__gt__', '__hash__', '__init__', '__init_subclass__', '__iter__', '__le__', '__len__', '__lt__', '__module__', '__ne__', '__new__', '__reduce__', '__reduce_ex__', '__repr__', '__setattr__', '__setitem__', '__sizeof__', '__str__', '__subclasshook__', '__unicode__', '__weakref__', '_check_if_open', '_complevel', '_complib', '_create_storer', '_filters', '_fletcher32', '_handle', '_mode', '_path', '_read_group', '_validate_format', '_write_to_group', 'append', 'append_to_multiple', 'close', 'copy', 'create_table_index', 'filename', 'flush', 'get', 'get_node', 'get_storer', 'groups', 'info', 'is_open', 'items', 'iteritems', 'keys', 'open', 'put', 'remove', 'root', 'select', 'select_as_coordinates', 'select_as_multiple', 'select_column']\n",
      "Index(['bandwidth'], dtype='object', name='data_rate')\n",
      "Index(['SIZE', 'LOSS', 'DELAY', 'PROTOCOL', 'bandwidth'], dtype='object')\n"
     ]
    }
   ],
   "source": [
    "import pandas as pd\n",
    "# From http://pandas.pydata.org/pandas-docs/version/0.23/visualization.html\n",
    "# http://pandas.pydata.org/pandas-docs/version/0.23/visualization.html#scatter-matrix-plot\n",
    "import matplotlib.pyplot as plt\n",
    "from pandas.plotting import scatter_matrix\n",
    "import numpy as np\n",
    "\n",
    "\n",
    "hd5_filename=\"ftp_performance.results.h5\"\n",
    "store = pd.HDFStore(hd5_filename)\n",
    "print(store.info())\n",
    "print(dir(store))\n",
    "store.df_mi\n",
    "df=store.df_mi\n",
    "cs=store.df_cs\n",
    "df.rename(columns={0:'bandwidth'}, inplace=\"true\")\n",
    "cs.bandwidth=cs.bandwidth.astype(float)\n",
    "print(df.columns)\n",
    "print(cs.columns)\n"
   ]
  },
  {
   "cell_type": "code",
   "execution_count": 16,
   "metadata": {
    "scrolled": true
   },
   "outputs": [
    {
     "name": "stdout",
     "output_type": "stream",
     "text": [
      "<class 'pandas.core.frame.DataFrame'>\n",
      "MultiIndex: 180 entries, (1024, 1e-09, 0.0, IPv4) to (4096, 100.0, 100.0, IPv6)\n",
      "Data columns (total 1 columns):\n",
      "bandwidth    180 non-null float64\n",
      "dtypes: float64(1)\n",
      "memory usage: 2.4+ KB\n",
      "None\n",
      "6666666666666666666666666666666666666666\n",
      "MultiIndex(levels=[[1024, 2048, 4096], [1e-09, 10.0, 20.0, 50.0, 75.0, 100.0], [0.0, 10.0, 20.0, 50.0, 100.0], ['IPv4', 'IPv6']],\n",
      "           labels=[[0, 0, 0, 0, 0, 0, 0, 0, 0, 0, 0, 0, 0, 0, 0, 0, 0, 0, 0, 0, 0, 0, 0, 0, 0, 0, 0, 0, 0, 0, 0, 0, 0, 0, 0, 0, 0, 0, 0, 0, 0, 0, 0, 0, 0, 0, 0, 0, 0, 0, 0, 0, 0, 0, 0, 0, 0, 0, 0, 0, 1, 1, 1, 1, 1, 1, 1, 1, 1, 1, 1, 1, 1, 1, 1, 1, 1, 1, 1, 1, 1, 1, 1, 1, 1, 1, 1, 1, 1, 1, 1, 1, 1, 1, 1, 1, 1, 1, 1, 1, 1, 1, 1, 1, 1, 1, 1, 1, 1, 1, 1, 1, 1, 1, 1, 1, 1, 1, 1, 1, 2, 2, 2, 2, 2, 2, 2, 2, 2, 2, 2, 2, 2, 2, 2, 2, 2, 2, 2, 2, 2, 2, 2, 2, 2, 2, 2, 2, 2, 2, 2, 2, 2, 2, 2, 2, 2, 2, 2, 2, 2, 2, 2, 2, 2, 2, 2, 2, 2, 2, 2, 2, 2, 2, 2, 2, 2, 2, 2, 2], [0, 0, 0, 0, 0, 0, 0, 0, 0, 0, 1, 1, 1, 1, 1, 1, 1, 1, 1, 1, 2, 2, 2, 2, 2, 2, 2, 2, 2, 2, 3, 3, 3, 3, 3, 3, 3, 3, 3, 3, 4, 4, 4, 4, 4, 4, 4, 4, 4, 4, 5, 5, 5, 5, 5, 5, 5, 5, 5, 5, 0, 0, 0, 0, 0, 0, 0, 0, 0, 0, 1, 1, 1, 1, 1, 1, 1, 1, 1, 1, 2, 2, 2, 2, 2, 2, 2, 2, 2, 2, 3, 3, 3, 3, 3, 3, 3, 3, 3, 3, 4, 4, 4, 4, 4, 4, 4, 4, 4, 4, 5, 5, 5, 5, 5, 5, 5, 5, 5, 5, 0, 0, 0, 0, 0, 0, 0, 0, 0, 0, 1, 1, 1, 1, 1, 1, 1, 1, 1, 1, 2, 2, 2, 2, 2, 2, 2, 2, 2, 2, 3, 3, 3, 3, 3, 3, 3, 3, 3, 3, 4, 4, 4, 4, 4, 4, 4, 4, 4, 4, 5, 5, 5, 5, 5, 5, 5, 5, 5, 5], [0, 0, 1, 1, 2, 2, 3, 3, 4, 4, 0, 0, 1, 1, 2, 2, 3, 3, 4, 4, 0, 0, 1, 1, 2, 2, 3, 3, 4, 4, 0, 0, 1, 1, 2, 2, 3, 3, 4, 4, 0, 0, 1, 1, 2, 2, 3, 3, 4, 4, 0, 0, 1, 1, 2, 2, 3, 3, 4, 4, 0, 0, 1, 1, 2, 2, 3, 3, 4, 4, 0, 0, 1, 1, 2, 2, 3, 3, 4, 4, 0, 0, 1, 1, 2, 2, 3, 3, 4, 4, 0, 0, 1, 1, 2, 2, 3, 3, 4, 4, 0, 0, 1, 1, 2, 2, 3, 3, 4, 4, 0, 0, 1, 1, 2, 2, 3, 3, 4, 4, 0, 0, 1, 1, 2, 2, 3, 3, 4, 4, 0, 0, 1, 1, 2, 2, 3, 3, 4, 4, 0, 0, 1, 1, 2, 2, 3, 3, 4, 4, 0, 0, 1, 1, 2, 2, 3, 3, 4, 4, 0, 0, 1, 1, 2, 2, 3, 3, 4, 4, 0, 0, 1, 1, 2, 2, 3, 3, 4, 4], [0, 1, 0, 1, 0, 1, 0, 1, 0, 1, 0, 1, 0, 1, 0, 1, 0, 1, 0, 1, 0, 1, 0, 1, 0, 1, 0, 1, 0, 1, 0, 1, 0, 1, 0, 1, 0, 1, 0, 1, 0, 1, 0, 1, 0, 1, 0, 1, 0, 1, 0, 1, 0, 1, 0, 1, 0, 1, 0, 1, 0, 1, 0, 1, 0, 1, 0, 1, 0, 1, 0, 1, 0, 1, 0, 1, 0, 1, 0, 1, 0, 1, 0, 1, 0, 1, 0, 1, 0, 1, 0, 1, 0, 1, 0, 1, 0, 1, 0, 1, 0, 1, 0, 1, 0, 1, 0, 1, 0, 1, 0, 1, 0, 1, 0, 1, 0, 1, 0, 1, 0, 1, 0, 1, 0, 1, 0, 1, 0, 1, 0, 1, 0, 1, 0, 1, 0, 1, 0, 1, 0, 1, 0, 1, 0, 1, 0, 1, 0, 1, 0, 1, 0, 1, 0, 1, 0, 1, 0, 1, 0, 1, 0, 1, 0, 1, 0, 1, 0, 1, 0, 1, 0, 1, 0, 1, 0, 1, 0, 1]],\n",
      "           names=['SIZE', 'LOSS', 'DELAY', 'PROTOCOL'])\n",
      "Index(['bandwidth'], dtype='object', name='data_rate')\n"
     ]
    }
   ],
   "source": [
    "print(df.info())\n",
    "print(40*'6')\n",
    "print(df.index)\n",
    "# print(dir(df))\n",
    "print(df.columns)"
   ]
  },
  {
   "cell_type": "code",
   "execution_count": 66,
   "metadata": {},
   "outputs": [
    {
     "name": "stdout",
     "output_type": "stream",
     "text": [
      "<class 'pandas.core.frame.DataFrame'>\n",
      "Int64Index: 180 entries, 0 to 179\n",
      "Data columns (total 5 columns):\n",
      "SIZE         180 non-null object\n",
      "LOSS         180 non-null object\n",
      "DELAY        180 non-null object\n",
      "PROTOCOL     180 non-null object\n",
      "bandwidth    180 non-null float64\n",
      "dtypes: float64(1), object(4)\n",
      "memory usage: 8.4+ KB\n",
      "None\n",
      "@@@@@@@@@@@@@@@@@@@@@@@@@@@@@@@@@@@@@@@@\n",
      "Int64Index([  0,   1,   2,   3,   4,   5,   6,   7,   8,   9,\n",
      "            ...\n",
      "            170, 171, 172, 173, 174, 175, 176, 177, 178, 179],\n",
      "           dtype='int64', length=180)\n",
      "Index(['SIZE', 'LOSS', 'DELAY', 'PROTOCOL', 'bandwidth'], dtype='object')\n"
     ]
    }
   ],
   "source": [
    "print(cs.info())\n",
    "print(40*'@')\n",
    "print(cs.index)\n",
    "# print(dir(df))\n",
    "print(cs.columns)"
   ]
  },
  {
   "cell_type": "code",
   "execution_count": 56,
   "metadata": {},
   "outputs": [],
   "source": [
    "ipv4_bool_vec=cs['PROTOCOL'] == \"IPv4\"\n",
    "ipv6_bool_vec=np.invert(ipv4_bool_vec)\n",
    "loss_0_bool_vec=cs['LOSS'] == \"1e-09\"\n",
    "delay_0_bool_vec=cs['DELAY'] == \"0.0\"\n",
    "size_4096_bool_vec=cs['SIZE']=='4096'"
   ]
  },
  {
   "cell_type": "code",
   "execution_count": 51,
   "metadata": {},
   "outputs": [
    {
     "data": {
      "text/html": [
       "<div>\n",
       "<style scoped>\n",
       "    .dataframe tbody tr th:only-of-type {\n",
       "        vertical-align: middle;\n",
       "    }\n",
       "\n",
       "    .dataframe tbody tr th {\n",
       "        vertical-align: top;\n",
       "    }\n",
       "\n",
       "    .dataframe thead th {\n",
       "        text-align: right;\n",
       "    }\n",
       "</style>\n",
       "<table border=\"1\" class=\"dataframe\">\n",
       "  <thead>\n",
       "    <tr style=\"text-align: right;\">\n",
       "      <th></th>\n",
       "      <th>SIZE</th>\n",
       "      <th>LOSS</th>\n",
       "      <th>DELAY</th>\n",
       "      <th>PROTOCOL</th>\n",
       "      <th>bandwidth</th>\n",
       "    </tr>\n",
       "  </thead>\n",
       "  <tbody>\n",
       "    <tr>\n",
       "      <th>1</th>\n",
       "      <td>1024</td>\n",
       "      <td>1e-09</td>\n",
       "      <td>0.0</td>\n",
       "      <td>IPv6</td>\n",
       "      <td>11100000.0</td>\n",
       "    </tr>\n",
       "    <tr>\n",
       "      <th>61</th>\n",
       "      <td>2048</td>\n",
       "      <td>1e-09</td>\n",
       "      <td>0.0</td>\n",
       "      <td>IPv6</td>\n",
       "      <td>11100000.0</td>\n",
       "    </tr>\n",
       "    <tr>\n",
       "      <th>121</th>\n",
       "      <td>4096</td>\n",
       "      <td>1e-09</td>\n",
       "      <td>0.0</td>\n",
       "      <td>IPv6</td>\n",
       "      <td>11100000.0</td>\n",
       "    </tr>\n",
       "  </tbody>\n",
       "</table>\n",
       "</div>"
      ],
      "text/plain": [
       "     SIZE   LOSS DELAY PROTOCOL   bandwidth\n",
       "1    1024  1e-09   0.0     IPv6  11100000.0\n",
       "61   2048  1e-09   0.0     IPv6  11100000.0\n",
       "121  4096  1e-09   0.0     IPv6  11100000.0"
      ]
     },
     "execution_count": 51,
     "metadata": {},
     "output_type": "execute_result"
    }
   ],
   "source": [
    "cs[loss_0_bool_vec & ipv6_bool_vec & delay_0_bool_vec ]"
   ]
  },
  {
   "cell_type": "code",
   "execution_count": 58,
   "metadata": {},
   "outputs": [
    {
     "data": {
      "text/html": [
       "<div>\n",
       "<style scoped>\n",
       "    .dataframe tbody tr th:only-of-type {\n",
       "        vertical-align: middle;\n",
       "    }\n",
       "\n",
       "    .dataframe tbody tr th {\n",
       "        vertical-align: top;\n",
       "    }\n",
       "\n",
       "    .dataframe thead th {\n",
       "        text-align: right;\n",
       "    }\n",
       "</style>\n",
       "<table border=\"1\" class=\"dataframe\">\n",
       "  <thead>\n",
       "    <tr style=\"text-align: right;\">\n",
       "      <th></th>\n",
       "      <th>SIZE</th>\n",
       "      <th>LOSS</th>\n",
       "      <th>DELAY</th>\n",
       "      <th>PROTOCOL</th>\n",
       "      <th>bandwidth</th>\n",
       "    </tr>\n",
       "  </thead>\n",
       "  <tbody>\n",
       "    <tr>\n",
       "      <th>120</th>\n",
       "      <td>4096</td>\n",
       "      <td>1e-09</td>\n",
       "      <td>0.0</td>\n",
       "      <td>IPv4</td>\n",
       "      <td>10900000.0</td>\n",
       "    </tr>\n",
       "    <tr>\n",
       "      <th>121</th>\n",
       "      <td>4096</td>\n",
       "      <td>1e-09</td>\n",
       "      <td>0.0</td>\n",
       "      <td>IPv6</td>\n",
       "      <td>11100000.0</td>\n",
       "    </tr>\n",
       "    <tr>\n",
       "      <th>130</th>\n",
       "      <td>4096</td>\n",
       "      <td>10.0</td>\n",
       "      <td>0.0</td>\n",
       "      <td>IPv4</td>\n",
       "      <td>11200000.0</td>\n",
       "    </tr>\n",
       "    <tr>\n",
       "      <th>131</th>\n",
       "      <td>4096</td>\n",
       "      <td>10.0</td>\n",
       "      <td>0.0</td>\n",
       "      <td>IPv6</td>\n",
       "      <td>11100000.0</td>\n",
       "    </tr>\n",
       "    <tr>\n",
       "      <th>140</th>\n",
       "      <td>4096</td>\n",
       "      <td>20.0</td>\n",
       "      <td>0.0</td>\n",
       "      <td>IPv4</td>\n",
       "      <td>11200000.0</td>\n",
       "    </tr>\n",
       "    <tr>\n",
       "      <th>141</th>\n",
       "      <td>4096</td>\n",
       "      <td>20.0</td>\n",
       "      <td>0.0</td>\n",
       "      <td>IPv6</td>\n",
       "      <td>11100000.0</td>\n",
       "    </tr>\n",
       "    <tr>\n",
       "      <th>150</th>\n",
       "      <td>4096</td>\n",
       "      <td>50.0</td>\n",
       "      <td>0.0</td>\n",
       "      <td>IPv4</td>\n",
       "      <td>362000.0</td>\n",
       "    </tr>\n",
       "    <tr>\n",
       "      <th>151</th>\n",
       "      <td>4096</td>\n",
       "      <td>50.0</td>\n",
       "      <td>0.0</td>\n",
       "      <td>IPv6</td>\n",
       "      <td>11100000.0</td>\n",
       "    </tr>\n",
       "    <tr>\n",
       "      <th>160</th>\n",
       "      <td>4096</td>\n",
       "      <td>75.0</td>\n",
       "      <td>0.0</td>\n",
       "      <td>IPv4</td>\n",
       "      <td>119000.0</td>\n",
       "    </tr>\n",
       "    <tr>\n",
       "      <th>161</th>\n",
       "      <td>4096</td>\n",
       "      <td>75.0</td>\n",
       "      <td>0.0</td>\n",
       "      <td>IPv6</td>\n",
       "      <td>11100000.0</td>\n",
       "    </tr>\n",
       "    <tr>\n",
       "      <th>170</th>\n",
       "      <td>4096</td>\n",
       "      <td>100.0</td>\n",
       "      <td>0.0</td>\n",
       "      <td>IPv4</td>\n",
       "      <td>0.0</td>\n",
       "    </tr>\n",
       "    <tr>\n",
       "      <th>171</th>\n",
       "      <td>4096</td>\n",
       "      <td>100.0</td>\n",
       "      <td>0.0</td>\n",
       "      <td>IPv6</td>\n",
       "      <td>11100000.0</td>\n",
       "    </tr>\n",
       "  </tbody>\n",
       "</table>\n",
       "</div>"
      ],
      "text/plain": [
       "     SIZE   LOSS DELAY PROTOCOL   bandwidth\n",
       "120  4096  1e-09   0.0     IPv4  10900000.0\n",
       "121  4096  1e-09   0.0     IPv6  11100000.0\n",
       "130  4096   10.0   0.0     IPv4  11200000.0\n",
       "131  4096   10.0   0.0     IPv6  11100000.0\n",
       "140  4096   20.0   0.0     IPv4  11200000.0\n",
       "141  4096   20.0   0.0     IPv6  11100000.0\n",
       "150  4096   50.0   0.0     IPv4    362000.0\n",
       "151  4096   50.0   0.0     IPv6  11100000.0\n",
       "160  4096   75.0   0.0     IPv4    119000.0\n",
       "161  4096   75.0   0.0     IPv6  11100000.0\n",
       "170  4096  100.0   0.0     IPv4         0.0\n",
       "171  4096  100.0   0.0     IPv6  11100000.0"
      ]
     },
     "execution_count": 58,
     "metadata": {},
     "output_type": "execute_result"
    }
   ],
   "source": [
    "cs[delay_0_bool_vec & size_4096_bool_vec ]"
   ]
  },
  {
   "cell_type": "code",
   "execution_count": 95,
   "metadata": {},
   "outputs": [
    {
     "name": "stdout",
     "output_type": "stream",
     "text": [
      "     SIZE   LOSS DELAY PROTOCOL   bandwidth\n",
      "120  4096  1e-09   0.0     IPv4  10900000.0\n",
      "130  4096   10.0   0.0     IPv4  11200000.0\n",
      "140  4096   20.0   0.0     IPv4  11200000.0\n",
      "150  4096   50.0   0.0     IPv4    362000.0\n",
      "160  4096   75.0   0.0     IPv4    119000.0\n",
      "170  4096  100.0   0.0     IPv4         0.0 \n",
      "      SIZE   LOSS DELAY PROTOCOL   bandwidth\n",
      "121  4096  1e-09   0.0     IPv6  11100000.0\n",
      "131  4096   10.0   0.0     IPv6  11100000.0\n",
      "141  4096   20.0   0.0     IPv6  11100000.0\n",
      "151  4096   50.0   0.0     IPv6  11100000.0\n",
      "161  4096   75.0   0.0     IPv6  11100000.0\n",
      "171  4096  100.0   0.0     IPv6  11100000.0\n"
     ]
    }
   ],
   "source": [
    "bv_1_4=ipv4_bool_vec & ( cs.DELAY==\"0.0\" ) & size_4096_bool_vec\n",
    "bv_1_6=ipv6_bool_vec & ( cs.DELAY==\"0.0\" ) & size_4096_bool_vec\n",
    "print(cs[bv_1_4],\"\\n\",cs[bv_1_6])"
   ]
  },
  {
   "cell_type": "code",
   "execution_count": 85,
   "metadata": {},
   "outputs": [
    {
     "data": {
      "text/plain": [
       "Text(0,0.5,'Bandwidth Bytes/sec')"
      ]
     },
     "execution_count": 85,
     "metadata": {},
     "output_type": "execute_result"
    },
    {
     "data": {
      "image/png": "[encoded data removed]",
      "text/plain": [
       "<Figure size 432x288 with 1 Axes>"
      ]
     },
     "metadata": {},
     "output_type": "display_data"
    }
   ],
   "source": [
    "plt.plot(cs.LOSS[bv_1_4],cs.bandwidth[bv_1_4], 'go-', cs.LOSS[bv_1_6],\n",
    "        cs.bandwidth[bv_1_6], 'r^-', linewidth=1.0)\n",
    "# plt.plot(cs.LOSS[(cs['PROTOCOL']=='IPv6')],cs.bandwidth[(cs['PROTOCOL']=='IPv6')])\n",
    "plt.xlabel(\"Loss %\")\n",
    "plt.ylabel(\"Bandwidth Bytes/sec\")"
   ]
  },
  {
   "cell_type": "code",
   "execution_count": 90,
   "metadata": {},
   "outputs": [
    {
     "name": "stdout",
     "output_type": "stream",
     "text": [
      "     SIZE   LOSS DELAY PROTOCOL   bandwidth\n",
      "122  4096  1e-09  10.0     IPv4  10500000.0\n",
      "132  4096   10.0  10.0     IPv4  10500000.0\n",
      "142  4096   20.0  10.0     IPv4  10500000.0\n",
      "152  4096   50.0  10.0     IPv4   8750000.0\n",
      "162  4096   75.0  10.0     IPv4         0.0\n",
      "172  4096  100.0  10.0     IPv4         0.0      SIZE   LOSS DELAY PROTOCOL   bandwidth\n",
      "123  4096  1e-09  10.0     IPv6  11100000.0\n",
      "133  4096   10.0  10.0     IPv6  11100000.0\n",
      "143  4096   20.0  10.0     IPv6  11100000.0\n",
      "153  4096   50.0  10.0     IPv6  11100000.0\n",
      "163  4096   75.0  10.0     IPv6  11100000.0\n",
      "173  4096  100.0  10.0     IPv6  11100000.0\n"
     ]
    }
   ],
   "source": [
    "bv_1_4=ipv4_bool_vec & ( cs.DELAY==\"10.0\" ) & size_4096_bool_vec\n",
    "bv_1_6=ipv6_bool_vec & ( cs.DELAY==\"10.0\" ) & size_4096_bool_vec\n",
    "print(cs[bv_1_4],\"\\n\",cs[bv_1_6])"
   ]
  },
  {
   "cell_type": "code",
   "execution_count": 91,
   "metadata": {},
   "outputs": [
    {
     "data": {
      "text/plain": [
       "Text(0,0.5,'Bandwidth Bytes/sec')"
      ]
     },
     "execution_count": 91,
     "metadata": {},
     "output_type": "execute_result"
    },
    {
     "data": {
      "image/png": "[encoded data removed]",
      "text/plain": [
       "<Figure size 432x288 with 1 Axes>"
      ]
     },
     "metadata": {},
     "output_type": "display_data"
    }
   ],
   "source": [
    "plt.plot(cs.LOSS[bv_1_4],cs.bandwidth[bv_1_4], 'go-', cs.LOSS[bv_1_6],\n",
    "        cs.bandwidth[bv_1_6], 'r^-', linewidth=1.0)\n",
    "# plt.plot(cs.LOSS[(cs['PROTOCOL']=='IPv6')],cs.bandwidth[(cs['PROTOCOL']=='IPv6')])\n",
    "plt.xlabel(\"Loss %\")\n",
    "plt.ylabel(\"Bandwidth Bytes/sec\")\n"
   ]
  },
  {
   "cell_type": "code",
   "execution_count": 93,
   "metadata": {
    "scrolled": true
   },
   "outputs": [
    {
     "name": "stdout",
     "output_type": "stream",
     "text": [
      "     SIZE   LOSS DELAY PROTOCOL  bandwidth\n",
      "124  4096  1e-09  20.0     IPv4  7180000.0\n",
      "134  4096   10.0  20.0     IPv4  7080000.0\n",
      "144  4096   20.0  20.0     IPv4  7140000.0\n",
      "154  4096   50.0  20.0     IPv4  3070000.0\n",
      "164  4096   75.0  20.0     IPv4    18500.0\n",
      "174  4096  100.0  20.0     IPv4        0.0      SIZE   LOSS DELAY PROTOCOL   bandwidth\n",
      "125  4096  1e-09  20.0     IPv6  11100000.0\n",
      "135  4096   10.0  20.0     IPv6  11100000.0\n",
      "145  4096   20.0  20.0     IPv6  11100000.0\n",
      "155  4096   50.0  20.0     IPv6  11100000.0\n",
      "165  4096   75.0  20.0     IPv6  11100000.0\n",
      "175  4096  100.0  20.0     IPv6  11100000.0\n"
     ]
    },
    {
     "data": {
      "text/plain": [
       "Text(0,0.5,'Bandwidth Bytes/sec')"
      ]
     },
     "execution_count": 93,
     "metadata": {},
     "output_type": "execute_result"
    },
    {
     "data": {
      "image/png": "[encoded data removed]",
      "text/plain": [
       "<Figure size 432x288 with 1 Axes>"
      ]
     },
     "metadata": {},
     "output_type": "display_data"
    }
   ],
   "source": [
    "bv_1_4=ipv4_bool_vec & ( cs.DELAY==\"20.0\" ) & size_4096_bool_vec\n",
    "bv_1_6=ipv6_bool_vec & ( cs.DELAY==\"20.0\" ) & size_4096_bool_vec\n",
    "print(cs[bv_1_4],\"\\n\",cs[bv_1_6])\n",
    "plt.plot(cs.LOSS[bv_1_4],cs.bandwidth[bv_1_4], 'go-', cs.LOSS[bv_1_6],\n",
    "        cs.bandwidth[bv_1_6], 'r^-', linewidth=1.0)\n",
    "# plt.plot(cs.LOSS[(cs['PROTOCOL']=='IPv6')],cs.bandwidth[(cs['PROTOCOL']=='IPv6')])\n",
    "plt.xlabel(\"Loss %\")\n",
    "plt.ylabel(\"Bandwidth Bytes/sec\")"
   ]
  },
  {
   "cell_type": "code",
   "execution_count": 94,
   "metadata": {},
   "outputs": [
    {
     "name": "stdout",
     "output_type": "stream",
     "text": [
      "0      1024\n",
      "1      1024\n",
      "2      1024\n",
      "3      1024\n",
      "4      1024\n",
      "5      1024\n",
      "6      1024\n",
      "7      1024\n",
      "8      1024\n",
      "9      1024\n",
      "10     1024\n",
      "11     1024\n",
      "12     1024\n",
      "13     1024\n",
      "14     1024\n",
      "15     1024\n",
      "16     1024\n",
      "17     1024\n",
      "18     1024\n",
      "19     1024\n",
      "20     1024\n",
      "21     1024\n",
      "22     1024\n",
      "23     1024\n",
      "24     1024\n",
      "25     1024\n",
      "26     1024\n",
      "27     1024\n",
      "28     1024\n",
      "29     1024\n",
      "       ... \n",
      "150    4096\n",
      "151    4096\n",
      "152    4096\n",
      "153    4096\n",
      "154    4096\n",
      "155    4096\n",
      "156    4096\n",
      "157    4096\n",
      "158    4096\n",
      "159    4096\n",
      "160    4096\n",
      "161    4096\n",
      "162    4096\n",
      "163    4096\n",
      "164    4096\n",
      "165    4096\n",
      "166    4096\n",
      "167    4096\n",
      "168    4096\n",
      "169    4096\n",
      "170    4096\n",
      "171    4096\n",
      "172    4096\n",
      "173    4096\n",
      "174    4096\n",
      "175    4096\n",
      "176    4096\n",
      "177    4096\n",
      "178    4096\n",
      "179    4096\n",
      "Name: SIZE, Length: 180, dtype: object\n"
     ]
    }
   ],
   "source": []
  },
  {
   "cell_type": "code",
   "execution_count": null,
   "metadata": {},
   "outputs": [],
   "source": [
    "import matplotlib.pyplot as plt\n",
    "plt.plot(cs.LOSS[(cs['PROTOCOL']=='IPv4')],cs.bandwidth[(cs['PROTOCOL']=='IPv4')])\n",
    "# plt.plot(cs.LOSS[(cs['PROTOCOL']=='IPv6')],cs.bandwidth[(cs['PROTOCOL']=='IPv6')])\n",
    "plt.xlabel(\"Loss %\")\n",
    "plt.ylabel(\"Bandwidth Bytes/sec\")"
   ]
  },
  {
   "cell_type": "code",
   "execution_count": null,
   "metadata": {},
   "outputs": [],
   "source": [
    "plt.plot(cs.DELAY,cs.bandwidth)\n",
    "plt.xlabel(\"Delay, msec\")\n",
    "plt.ylabel(\"Bandwidth Bytes/sec\")"
   ]
  },
  {
   "cell_type": "code",
   "execution_count": null,
   "metadata": {
    "scrolled": true
   },
   "outputs": [],
   "source": [
    "plt.plot(cs.PROTOCOL,cs.bandwidth)\n",
    "plt.xlabel(\"PROTOCOL\")\n",
    "plt.ylabel(\"Bandwidth Bytes/sec\")"
   ]
  },
  {
   "cell_type": "code",
   "execution_count": null,
   "metadata": {},
   "outputs": [],
   "source": [
    "plt.plot(cs.SIZE, cs.bandwidth)\n",
    "plt.xlabel(\"SIZE\")\n",
    "plt.ylabel(\"Bandwidth Bytes/sec\")"
   ]
  },
  {
   "cell_type": "code",
   "execution_count": null,
   "metadata": {},
   "outputs": [],
   "source": [
    "cs.PROTOCOL\n"
   ]
  }
 ],
 "metadata": {
  "kernelspec": {
   "display_name": "Python 3",
   "language": "python",
   "name": "python3"
  },
  "language_info": {
   "codemirror_mode": {
    "name": "ipython",
    "version": 3
   },
   "file_extension": ".py",
   "mimetype": "text/x-python",
   "name": "python",
   "nbconvert_exporter": "python",
   "pygments_lexer": "ipython3",
   "version": "3.6.5"
  }
 },
 "nbformat": 4,
 "nbformat_minor": 2
}
