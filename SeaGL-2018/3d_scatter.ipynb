{
    "nbformat_minor": 0, 
    "nbformat": 4, 
    "cells": [
        {
            "source": [
                "#### New to Plotly?\n", 
                "Plotly's Python library is free and open source! [Get started](https://plot.ly/python/getting-started/) by downloading the client and [reading the primer](https://plot.ly/python/getting-started/).\n", 
                "<br>You can set up Plotly to work in [online](https://plot.ly/python/getting-started/#initialization-for-online-plotting) or [offline](https://plot.ly/python/getting-started/#initialization-for-offline-plotting) mode, or in [jupyter notebooks](https://plot.ly/python/getting-started/#start-plotting-online).\n", 
                "<br>We also have a quick-reference [cheatsheet](https://images.plot.ly/plotly-documentation/images/python_cheat_sheet.pdf) (new!) to help you get started!"
            ], 
            "cell_type": "markdown", 
            "metadata": {
                "collapsed": true
            }
        }, 
        {
            "source": [
                "#### Basic 3D Scatter Plot"
            ], 
            "cell_type": "markdown", 
            "metadata": {}
        }, 
        {
            "source": [
                "import plotly.plotly as py\n", 
                "import plotly.graph_objs as go\n", 
                "\n", 
                "import numpy as np\n", 
                "\n", 
                "x, y, z = np.random.multivariate_normal(np.array([0,0,0]), np.eye(3), 200).transpose()\n", 
                "trace1 = go.Scatter3d(\n", 
                "    x=x,\n", 
                "    y=y,\n", 
                "    z=z,\n", 
                "    mode='markers',\n", 
                "    marker=dict(\n", 
                "        size=12,\n", 
                "        line=dict(\n", 
                "            color='rgba(217, 217, 217, 0.14)',\n", 
                "            width=0.5\n", 
                "        ),\n", 
                "        opacity=0.8\n", 
                "    )\n", 
                ")\n", 
                "\n", 
                "x2, y2, z2 = np.random.multivariate_normal(np.array([0,0,0]), np.eye(3), 200).transpose()\n", 
                "trace2 = go.Scatter3d(\n", 
                "    x=x2,\n", 
                "    y=y2,\n", 
                "    z=z2,\n", 
                "    mode='markers',\n", 
                "    marker=dict(\n", 
                "        color='rgb(127, 127, 127)',\n", 
                "        size=12,\n", 
                "        symbol='circle',\n", 
                "        line=dict(\n", 
                "            color='rgb(204, 204, 204)',\n", 
                "            width=1\n", 
                "        ),\n", 
                "        opacity=0.9\n", 
                "    )\n", 
                ")\n", 
                "data = [trace1, trace2]\n", 
                "layout = go.Layout(\n", 
                "    margin=dict(\n", 
                "        l=0,\n", 
                "        r=0,\n", 
                "        b=0,\n", 
                "        t=0\n", 
                "    )\n", 
                ")\n", 
                "fig = go.Figure(data=data, layout=layout)\n", 
                "py.iplot(fig, filename='simple-3d-scatter')"
            ], 
            "cell_type": "code", 
            "metadata": {
                "collapsed": false
            }, 
            "execution_count": 1, 
            "outputs": [
                {
                    "output_type": "execute_result", 
                    "data": {
                        "text/plain": [
                            "<plotly.tools.PlotlyDisplay object>"
                        ], 
                        "text/html": [
                            "<iframe id=\"igraph\" scrolling=\"no\" style=\"border:none;\" seamless=\"seamless\" src=\"https://plot.ly/~chelsea_lyn/11131.embed\" height=\"525px\" width=\"100%\"></iframe>"
                        ]
                    }, 
                    "execution_count": 1, 
                    "metadata": {}
                }
            ]
        }, 
        {
            "source": [
                "#### 3D Scatter Plot with Colorscaling"
            ], 
            "cell_type": "markdown", 
            "metadata": {
                "collapsed": true
            }
        }, 
        {
            "source": [
                "import plotly.plotly as py\n", 
                "import plotly.graph_objs as go\n", 
                "\n", 
                "import numpy as np\n", 
                "\n", 
                "x, y, z = np.random.multivariate_normal(np.array([0,0,0]), np.eye(3), 400).transpose()\n", 
                "\n", 
                "trace1 = go.Scatter3d(\n", 
                "    x=x,\n", 
                "    y=y,\n", 
                "    z=z,\n", 
                "    mode='markers',\n", 
                "    marker=dict(\n", 
                "        size=12,\n", 
                "        color=z,                # set color to an array/list of desired values\n", 
                "        colorscale='Viridis',   # choose a colorscale\n", 
                "        opacity=0.8\n", 
                "    )\n", 
                ")\n", 
                "\n", 
                "data = [trace1]\n", 
                "layout = go.Layout(\n", 
                "    margin=dict(\n", 
                "        l=0,\n", 
                "        r=0,\n", 
                "        b=0,\n", 
                "        t=0\n", 
                "    )\n", 
                ")\n", 
                "fig = go.Figure(data=data, layout=layout)\n", 
                "py.iplot(fig, filename='3d-scatter-colorscale')"
            ], 
            "cell_type": "code", 
            "metadata": {
                "collapsed": false
            }, 
            "execution_count": 2, 
            "outputs": [
                {
                    "output_type": "execute_result", 
                    "data": {
                        "text/plain": [
                            "<plotly.tools.PlotlyDisplay object>"
                        ], 
                        "text/html": [
                            "<iframe id=\"igraph\" scrolling=\"no\" style=\"border:none;\" seamless=\"seamless\" src=\"https://plot.ly/~chelsea_lyn/12042.embed\" height=\"525px\" width=\"100%\"></iframe>"
                        ]
                    }, 
                    "execution_count": 2, 
                    "metadata": {}
                }
            ]
        }, 
        {
            "source": [
                "#### Reference\n", 
                "See https://plot.ly/python/reference/#scatter3d for more information and chart attribute options!"
            ], 
            "cell_type": "markdown", 
            "metadata": {}
        }, 
        {
            "source": [], 
            "cell_type": "code", 
            "metadata": {
                "collapsed": true
            }, 
            "execution_count": null, 
            "outputs": []
        }
    ], 
    "metadata": {
        "kernelspec": {
            "display_name": "Python 2", 
            "name": "python2", 
            "language": "python"
        }, 
        "language_info": {
            "mimetype": "text/x-python", 
            "nbconvert_exporter": "python", 
            "name": "python", 
            "pygments_lexer": "ipython2", 
            "version": "2.7.10", 
            "file_extension": ".py", 
            "codemirror_mode": {
                "version": 2, 
                "name": "ipython"
            }
        }, 
        "anaconda-cloud": {}
    }
}